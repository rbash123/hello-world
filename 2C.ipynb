{
 "cells": [
  {
   "cell_type": "markdown",
   "id": "d7819c73",
   "metadata": {},
   "source": [
    "## New possible scientific question:\n",
    "Does a mutation in the the down syndrome cell adhesion molecule-like protein 1 homolog gene (DSCAML1), cause a similar hindrance in lamina-specific synaptic connections in the retina for humans and mice?\n",
    "\n",
    "## New possible scientific hypothesis:\n",
    "If the DSCAML1 gene is mutant, then there will be retinal synaptic connection lost for humans and mice"
   ]
  },
  {
   "cell_type": "markdown",
   "id": "e922262b",
   "metadata": {},
   "source": [
    "# Database#1: NCBI (found on Uniprot from NCBI) --> Method#1 Pairwise"
   ]
  },
  {
   "cell_type": "code",
   "execution_count": 1,
   "id": "7eb79038",
   "metadata": {},
   "outputs": [],
   "source": [
    "# Import Libraries:\n",
    "# Align package from Bio\n",
    "# and Seq package from Bio.Seq\n",
    "from Bio import Align\n",
    "from Bio.Seq import Seq\n"
   ]
  },
  {
   "cell_type": "code",
   "execution_count": 2,
   "id": "40cb355b",
   "metadata": {},
   "outputs": [],
   "source": [
    "# Assign two variables that DSCAML1 gene sequences found in the UniProt website\n",
    "# Name them: \n",
    "# MouseDS1 for mouse with down syndrome/contains DSCAML1gene \n",
    "# and HumanDS1 for human with down syndrome/contains DSCAML1gene\n",
    "# To read the sequences found on the NCBI Database, use the read function:  .read()\n",
    "\n",
    "MouseDS1= open(\"MouseDSCAML1.fasta.txt\")\n",
    "HumanDS1= open(\"HumanDSCAML1.fasta.txt\")\n"
   ]
  },
  {
   "cell_type": "code",
   "execution_count": 3,
   "id": "57184c8d",
   "metadata": {},
   "outputs": [
    {
     "name": "stdout",
     "output_type": "stream",
     "text": [
      "Pairwise sequence aligner with parameters\n",
      "  wildcard: None\n",
      "  match_score: 1.000000\n",
      "  mismatch_score: 0.000000\n",
      "  target_internal_open_gap_score: 0.000000\n",
      "  target_internal_extend_gap_score: 0.000000\n",
      "  target_left_open_gap_score: 0.000000\n",
      "  target_left_extend_gap_score: 0.000000\n",
      "  target_right_open_gap_score: 0.000000\n",
      "  target_right_extend_gap_score: 0.000000\n",
      "  query_internal_open_gap_score: 0.000000\n",
      "  query_internal_extend_gap_score: 0.000000\n",
      "  query_left_open_gap_score: 0.000000\n",
      "  query_left_extend_gap_score: 0.000000\n",
      "  query_right_open_gap_score: 0.000000\n",
      "  query_right_extend_gap_score: 0.000000\n",
      "  mode: global\n",
      "\n"
     ]
    }
   ],
   "source": [
    "# Creating an allignment using the pairwaise function: pairwaise2.align(,)\n",
    "# Do this for both MouseDS1 and HumanDS1 separately\n",
    "\n",
    "\n",
    "#Can use aligner method\n",
    "aligner= Align.PairwiseAligner()\n",
    "\n",
    "# Showing method attributes\n",
    "print(aligner)\n",
    "\n"
   ]
  },
  {
   "cell_type": "code",
   "execution_count": 4,
   "id": "f0a3925b",
   "metadata": {},
   "outputs": [
    {
     "name": "stdout",
     "output_type": "stream",
     "text": [
      "Alignment with 1 rows and 2053 columns\n",
      "MWLVTFLLLLDSLHKARPEDVGTSLYFVNDSLQHVTFSSSVGVV...TLV sp|Q4VA61|DSCL1_MOUSE\n"
     ]
    }
   ],
   "source": [
    "# Import the Libraries needed to do the pairwise sequence alignment\n",
    "# Use AlignIO package from Bio\n",
    "# AlignIO description for parsing sequence alignment is in this website: https://www.tutorialspoint.com/biopython/biopython_sequence_alignments.htm\n",
    "from Bio import AlignIO\n",
    "\n",
    "# Do the alignment method using the AlignIO.read () function\n",
    "# Go through the process for both MouseDSL1 and HumanDSL1\n",
    "# Name properly by adding \"alignment\" to the end when naming\n",
    "\n",
    "\n",
    "# MouseDSL1 Alignment\n",
    "\n",
    "MouseDSL1alignment = AlignIO.read(open(\"MouseDSCAML1.fasta.txt\"), \"fasta\")\n",
    "print(MouseDSL1alignment)"
   ]
  },
  {
   "cell_type": "code",
   "execution_count": 5,
   "id": "32a22e98",
   "metadata": {},
   "outputs": [
    {
     "name": "stdout",
     "output_type": "stream",
     "text": [
      "Alignment with 1 rows and 2053 columns\n",
      "MWLVTFLLLLDSLHKARPEDVGTSLYFVNDSLQQVTFSSSVGVV...TLV sp|Q8TD84|DSCL1_HUMAN\n"
     ]
    }
   ],
   "source": [
    "\n",
    "\n",
    "# HumanDSL1 Alignment\n",
    "HumanDSL1alignment = AlignIO.read(open(\"HumanDSCAML1.fasta.txt\"), \"fasta\")\n",
    "print(HumanDSL1alignment)"
   ]
  },
  {
   "cell_type": "markdown",
   "id": "8e1f924b",
   "metadata": {},
   "source": [
    "# Database#2     --> Method#2 \n",
    "\n",
    "will do later"
   ]
  },
  {
   "cell_type": "markdown",
   "id": "70c10ba1",
   "metadata": {},
   "source": [
    "# Making a sequence logo"
   ]
  },
  {
   "cell_type": "code",
   "execution_count": 2,
   "id": "db41d1f1",
   "metadata": {},
   "outputs": [
    {
     "name": "stdout",
     "output_type": "stream",
     "text": [
      "Collecting package metadata (current_repodata.json): done\n",
      "Solving environment: done\n",
      "\n",
      "## Package Plan ##\n",
      "\n",
      "  environment location: /opt/anaconda3\n",
      "\n",
      "  added / updated specs:\n",
      "    - mafft\n",
      "\n",
      "\n",
      "The following packages will be downloaded:\n",
      "\n",
      "    package                    |            build\n",
      "    ---------------------------|-----------------\n",
      "    conda-4.13.0               |   py39hecd8cb5_0         906 KB\n",
      "    mafft-7.505                |       ha5712d3_0         8.9 MB  bioconda\n",
      "    ------------------------------------------------------------\n",
      "                                           Total:         9.8 MB\n",
      "\n",
      "The following NEW packages will be INSTALLED:\n",
      "\n",
      "  mafft              bioconda/osx-64::mafft-7.505-ha5712d3_0\n",
      "\n",
      "The following packages will be UPDATED:\n",
      "\n",
      "  conda              conda-forge::conda-4.12.0-py39h6e9494~ --> pkgs/main::conda-4.13.0-py39hecd8cb5_0\n",
      "\n",
      "\n",
      "\n",
      "Downloading and Extracting Packages\n",
      "conda-4.13.0         | 906 KB    | ##################################### | 100% \n",
      "mafft-7.505          | 8.9 MB    | ##################################### | 100% \n",
      "Preparing transaction: done\n",
      "Verifying transaction: done\n",
      "Executing transaction: done\n",
      "\n",
      "Note: you may need to restart the kernel to use updated packages.\n"
     ]
    }
   ],
   "source": [
    "conda install -c bioconda mafft"
   ]
  },
  {
   "cell_type": "code",
   "execution_count": 1,
   "id": "c0d305e5",
   "metadata": {},
   "outputs": [
    {
     "ename": "SyntaxError",
     "evalue": "invalid syntax (1669949027.py, line 6)",
     "output_type": "error",
     "traceback": [
      "\u001b[0;36m  File \u001b[0;32m\"/var/folders/0b/gvp8qfn546jcz3qpc307k9vc0000gn/T/ipykernel_32501/1669949027.py\"\u001b[0;36m, line \u001b[0;32m6\u001b[0m\n\u001b[0;31m    opt/local/mafft(../Doc/examples/opuntia.fasta)\u001b[0m\n\u001b[0m                    ^\u001b[0m\n\u001b[0;31mSyntaxError\u001b[0m\u001b[0;31m:\u001b[0m invalid syntax\n"
     ]
    }
   ],
   "source": [
    "from Bio.Align.Applications import MafftCommandline\n",
    "mafft_exe = \"/opt/local/mafft\"\n",
    "in_file = \"../Doc/examples/opuntia.fasta\"\n",
    "mafft_cline = MafftCommandline(mafft_exe, input=in_file)\n",
    "print(mafft_cline)\n",
    "/opt/local/mafft ../Doc/examples/opuntia.fasta"
   ]
  },
  {
   "cell_type": "code",
   "execution_count": null,
   "id": "56d16518",
   "metadata": {},
   "outputs": [],
   "source": [
    "stdout, stderr = mafft_cline()\n",
    "from StringIO import StringIO\n",
    "from Bio import AlignIO\n",
    "align = AlignIO.read(StringIO(stdout), \"fasta\")"
   ]
  },
  {
   "cell_type": "code",
   "execution_count": 8,
   "id": "de742fd7",
   "metadata": {},
   "outputs": [
    {
     "ename": "ModuleNotFoundError",
     "evalue": "No module named 'logomaker'",
     "output_type": "error",
     "traceback": [
      "\u001b[0;31m---------------------------------------------------------------------------\u001b[0m",
      "\u001b[0;31mModuleNotFoundError\u001b[0m                       Traceback (most recent call last)",
      "\u001b[0;32m/var/folders/0b/gvp8qfn546jcz3qpc307k9vc0000gn/T/ipykernel_32501/787483170.py\u001b[0m in \u001b[0;36m<module>\u001b[0;34m\u001b[0m\n\u001b[1;32m      6\u001b[0m \u001b[0mplt\u001b[0m\u001b[0;34m.\u001b[0m\u001b[0mion\u001b[0m\u001b[0;34m(\u001b[0m\u001b[0;34m)\u001b[0m\u001b[0;34m\u001b[0m\u001b[0;34m\u001b[0m\u001b[0m\n\u001b[1;32m      7\u001b[0m \u001b[0;34m\u001b[0m\u001b[0m\n\u001b[0;32m----> 8\u001b[0;31m \u001b[0;32mimport\u001b[0m \u001b[0mlogomaker\u001b[0m \u001b[0;32mas\u001b[0m \u001b[0mlm\u001b[0m\u001b[0;34m\u001b[0m\u001b[0;34m\u001b[0m\u001b[0m\n\u001b[0m",
      "\u001b[0;31mModuleNotFoundError\u001b[0m: No module named 'logomaker'"
     ]
    }
   ],
   "source": [
    "# useful imports\n",
    "import numpy as np\n",
    "import pandas as pd\n",
    "import matplotlib.pyplot as plt\n",
    "%matplotlib inline \n",
    "plt.ion()\n",
    "\n",
    "import logomaker as lm"
   ]
  },
  {
   "cell_type": "code",
   "execution_count": 4,
   "id": "eecfbeb2",
   "metadata": {},
   "outputs": [
    {
     "ename": "NameError",
     "evalue": "name 'lm' is not defined",
     "output_type": "error",
     "traceback": [
      "\u001b[0;31m---------------------------------------------------------------------------\u001b[0m",
      "\u001b[0;31mNameError\u001b[0m                                 Traceback (most recent call last)",
      "\u001b[0;32m/var/folders/0b/gvp8qfn546jcz3qpc307k9vc0000gn/T/ipykernel_32501/1241235303.py\u001b[0m in \u001b[0;36m<module>\u001b[0;34m\u001b[0m\n\u001b[1;32m      1\u001b[0m \u001b[0;31m# logomaker method to load example matrices\u001b[0m\u001b[0;34m\u001b[0m\u001b[0;34m\u001b[0m\u001b[0m\n\u001b[0;32m----> 2\u001b[0;31m \u001b[0mMouseDSCAML1df\u001b[0m \u001b[0;34m=\u001b[0m \u001b[0;34m-\u001b[0m\u001b[0mlm\u001b[0m\u001b[0;34m.\u001b[0m\u001b[0mget_example_matrix\u001b[0m\u001b[0;34m(\u001b[0m\u001b[0;34m'MouseDSCAML1.fasta.txt'\u001b[0m\u001b[0;34m)\u001b[0m\u001b[0;34m\u001b[0m\u001b[0;34m\u001b[0m\u001b[0m\n\u001b[0m\u001b[1;32m      3\u001b[0m \u001b[0mMouseDSCAML1df\u001b[0m\u001b[0;34m.\u001b[0m\u001b[0mhead\u001b[0m\u001b[0;34m(\u001b[0m\u001b[0;34m)\u001b[0m\u001b[0;34m\u001b[0m\u001b[0;34m\u001b[0m\u001b[0m\n\u001b[1;32m      4\u001b[0m \u001b[0;34m\u001b[0m\u001b[0m\n\u001b[1;32m      5\u001b[0m \u001b[0mHumanDSCAML1df\u001b[0m\u001b[0;34m=\u001b[0m \u001b[0mlm\u001b[0m\u001b[0;34m.\u001b[0m\u001b[0mget_example_matrix\u001b[0m\u001b[0;34m(\u001b[0m\u001b[0;34m'HumanDSCAML1.fasta.txt'\u001b[0m\u001b[0;34m)\u001b[0m\u001b[0;34m\u001b[0m\u001b[0;34m\u001b[0m\u001b[0m\n",
      "\u001b[0;31mNameError\u001b[0m: name 'lm' is not defined"
     ]
    }
   ],
   "source": [
    "# logomaker method to load example matrices\n",
    "MouseDSCAML1df = -lm.get_example_matrix('MouseDSCAML1.fasta.txt')\n",
    "MouseDSCAML1df.head()\n",
    "\n",
    "HumanDSCAML1df= lm.get_example_matrix('HumanDSCAML1.fasta.txt')\n",
    "HumanDSCAML1df.head()"
   ]
  },
  {
   "cell_type": "code",
   "execution_count": 5,
   "id": "7aa8f090",
   "metadata": {},
   "outputs": [
    {
     "ename": "NameError",
     "evalue": "name 'lm' is not defined",
     "output_type": "error",
     "traceback": [
      "\u001b[0;31m---------------------------------------------------------------------------\u001b[0m",
      "\u001b[0;31mNameError\u001b[0m                                 Traceback (most recent call last)",
      "\u001b[0;32m/var/folders/0b/gvp8qfn546jcz3qpc307k9vc0000gn/T/ipykernel_32501/3886968937.py\u001b[0m in \u001b[0;36m<module>\u001b[0;34m\u001b[0m\n\u001b[0;32m----> 1\u001b[0;31m \u001b[0mlogo\u001b[0m \u001b[0;34m=\u001b[0m \u001b[0mlm\u001b[0m\u001b[0;34m.\u001b[0m\u001b[0mLogo\u001b[0m\u001b[0;34m(\u001b[0m\u001b[0mcrp_df\u001b[0m\u001b[0;34m,\u001b[0m \u001b[0mfont_name\u001b[0m \u001b[0;34m=\u001b[0m \u001b[0;34m'Arial Rounded MT Bold'\u001b[0m\u001b[0;34m)\u001b[0m\u001b[0;34m\u001b[0m\u001b[0;34m\u001b[0m\u001b[0m\n\u001b[0m",
      "\u001b[0;31mNameError\u001b[0m: name 'lm' is not defined"
     ]
    }
   ],
   "source": [
    "logo = lm.Logo(crp_df, font_name = 'Arial Rounded MT Bold')"
   ]
  },
  {
   "cell_type": "code",
   "execution_count": null,
   "id": "bca16720",
   "metadata": {},
   "outputs": [],
   "source": []
  }
 ],
 "metadata": {
  "kernelspec": {
   "display_name": "Python 3 (ipykernel)",
   "language": "python",
   "name": "python3"
  },
  "language_info": {
   "codemirror_mode": {
    "name": "ipython",
    "version": 3
   },
   "file_extension": ".py",
   "mimetype": "text/x-python",
   "name": "python",
   "nbconvert_exporter": "python",
   "pygments_lexer": "ipython3",
   "version": "3.9.7"
  }
 },
 "nbformat": 4,
 "nbformat_minor": 5
}
